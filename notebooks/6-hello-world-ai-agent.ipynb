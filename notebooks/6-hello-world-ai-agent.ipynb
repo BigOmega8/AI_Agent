{
 "cells": [
  {
   "cell_type": "code",
   "execution_count": 1,
   "id": "4f26a89b",
   "metadata": {},
   "outputs": [],
   "source": [
    "import setup\n",
    "setup.init()"
   ]
  },
  {
   "cell_type": "code",
   "execution_count": 2,
   "id": "132e36e1",
   "metadata": {},
   "outputs": [],
   "source": [
    "from ai.agents import get_document_agent"
   ]
  },
  {
   "cell_type": "code",
   "execution_count": 3,
   "id": "fa7d4b38",
   "metadata": {},
   "outputs": [],
   "source": [
    "agent = get_document_agent()"
   ]
  },
  {
   "cell_type": "code",
   "execution_count": 7,
   "id": "23d4039f",
   "metadata": {},
   "outputs": [],
   "source": [
    "import uuid\n",
    "config = {\"configurable\": {\"user_id\": \"2\", \"thread_id\": uuid.uuid4()}}\n",
    "\n",
    "response = agent.invoke(\n",
    "    {\n",
    "        \"messages\": [\n",
    "            {\n",
    "                \"role\": \"user\",\n",
    "                \"content\": \"What are my recent documents?\"\n",
    "            }\n",
    "        ]\n",
    "    },\n",
    "    config\n",
    ")"
   ]
  },
  {
   "cell_type": "code",
   "execution_count": 8,
   "id": "4389a5b7",
   "metadata": {},
   "outputs": [
    {
     "data": {
      "text/plain": [
       "{'messages': [HumanMessage(content='What are my recent documents?', additional_kwargs={}, response_metadata={}, id='0277b226-6290-4ae7-8215-b78f4977f696'),\n",
       "  AIMessage(content='', additional_kwargs={'tool_calls': [{'id': 'call_2FVV0QIkE7SIkEpId5rkrM9v', 'function': {'arguments': '{}', 'name': 'list_documents'}, 'type': 'function'}], 'refusal': None}, response_metadata={'token_usage': {'completion_tokens': 10, 'prompt_tokens': 96, 'total_tokens': 106, 'completion_tokens_details': {'accepted_prediction_tokens': 0, 'audio_tokens': 0, 'reasoning_tokens': 0, 'rejected_prediction_tokens': 0}, 'prompt_tokens_details': {'audio_tokens': 0, 'cached_tokens': 0}}, 'model_name': 'gpt-4o-mini-2024-07-18', 'system_fingerprint': 'fp_62a23a81ef', 'id': 'chatcmpl-Br18nlHjYmc9TaQuniLmktCrqoOZb', 'service_tier': 'default', 'finish_reason': 'tool_calls', 'logprobs': None}, id='run--fd294341-79f5-4045-a01b-baa2d3344979-0', tool_calls=[{'name': 'list_documents', 'args': {}, 'id': 'call_2FVV0QIkE7SIkEpId5rkrM9v', 'type': 'tool_call'}], usage_metadata={'input_tokens': 96, 'output_tokens': 10, 'total_tokens': 106, 'input_token_details': {'audio': 0, 'cache_read': 0}, 'output_token_details': {'audio': 0, 'reasoning': 0}}),\n",
       "  ToolMessage(content='[{\\'id\\': 1, \\'title\\': \\'Hello\\', \\'content\\': \"Hello World!\\\\r\\\\n\\\\r\\\\nHey! How\\'s it going.\", \\'active\\': True, \\'active_at\\': datetime.datetime(2025, 7, 1, 5, 56, 29, 933374, tzinfo=datetime.timezone.utc), \\'created_at\\': datetime.datetime(2025, 7, 1, 5, 56, 29, 936122, tzinfo=datetime.timezone.utc), \\'updated_at\\': datetime.datetime(2025, 7, 1, 5, 56, 29, 936575, tzinfo=datetime.timezone.utc)}]', name='list_documents', id='9bbc87e7-4600-4467-87a4-6b9f11f83e73', tool_call_id='call_2FVV0QIkE7SIkEpId5rkrM9v'),\n",
       "  AIMessage(content='Your most recent document is titled **\"Hello\"**. Here are the details:\\n\\n- **Content:** \"Hello World!\\\\r\\\\n\\\\r\\\\nHey! How\\'s it going.\"\\n- **Created At:** July 1, 2025\\n- **Updated At:** July 1, 2025\\n- **Active At:** July 1, 2025\\n\\nIf you need more information or want to view the document, let me know!', additional_kwargs={'refusal': None}, response_metadata={'token_usage': {'completion_tokens': 92, 'prompt_tokens': 259, 'total_tokens': 351, 'completion_tokens_details': {'accepted_prediction_tokens': 0, 'audio_tokens': 0, 'reasoning_tokens': 0, 'rejected_prediction_tokens': 0}, 'prompt_tokens_details': {'audio_tokens': 0, 'cached_tokens': 0}}, 'model_name': 'gpt-4o-mini-2024-07-18', 'system_fingerprint': 'fp_62a23a81ef', 'id': 'chatcmpl-Br18otZ6Ub8qNDYRtNsRhNmMBwiig', 'service_tier': 'default', 'finish_reason': 'stop', 'logprobs': None}, id='run--5e8eb9f1-4ead-4947-a103-1620ecdd366c-0', usage_metadata={'input_tokens': 259, 'output_tokens': 92, 'total_tokens': 351, 'input_token_details': {'audio': 0, 'cache_read': 0}, 'output_token_details': {'audio': 0, 'reasoning': 0}})]}"
      ]
     },
     "execution_count": 8,
     "metadata": {},
     "output_type": "execute_result"
    }
   ],
   "source": [
    "response"
   ]
  },
  {
   "cell_type": "code",
   "execution_count": 9,
   "id": "8d24763f",
   "metadata": {},
   "outputs": [
    {
     "data": {
      "text/plain": [
       "[HumanMessage(content='What are my recent documents?', additional_kwargs={}, response_metadata={}, id='0277b226-6290-4ae7-8215-b78f4977f696'),\n",
       " AIMessage(content='', additional_kwargs={'tool_calls': [{'id': 'call_2FVV0QIkE7SIkEpId5rkrM9v', 'function': {'arguments': '{}', 'name': 'list_documents'}, 'type': 'function'}], 'refusal': None}, response_metadata={'token_usage': {'completion_tokens': 10, 'prompt_tokens': 96, 'total_tokens': 106, 'completion_tokens_details': {'accepted_prediction_tokens': 0, 'audio_tokens': 0, 'reasoning_tokens': 0, 'rejected_prediction_tokens': 0}, 'prompt_tokens_details': {'audio_tokens': 0, 'cached_tokens': 0}}, 'model_name': 'gpt-4o-mini-2024-07-18', 'system_fingerprint': 'fp_62a23a81ef', 'id': 'chatcmpl-Br18nlHjYmc9TaQuniLmktCrqoOZb', 'service_tier': 'default', 'finish_reason': 'tool_calls', 'logprobs': None}, id='run--fd294341-79f5-4045-a01b-baa2d3344979-0', tool_calls=[{'name': 'list_documents', 'args': {}, 'id': 'call_2FVV0QIkE7SIkEpId5rkrM9v', 'type': 'tool_call'}], usage_metadata={'input_tokens': 96, 'output_tokens': 10, 'total_tokens': 106, 'input_token_details': {'audio': 0, 'cache_read': 0}, 'output_token_details': {'audio': 0, 'reasoning': 0}}),\n",
       " ToolMessage(content='[{\\'id\\': 1, \\'title\\': \\'Hello\\', \\'content\\': \"Hello World!\\\\r\\\\n\\\\r\\\\nHey! How\\'s it going.\", \\'active\\': True, \\'active_at\\': datetime.datetime(2025, 7, 1, 5, 56, 29, 933374, tzinfo=datetime.timezone.utc), \\'created_at\\': datetime.datetime(2025, 7, 1, 5, 56, 29, 936122, tzinfo=datetime.timezone.utc), \\'updated_at\\': datetime.datetime(2025, 7, 1, 5, 56, 29, 936575, tzinfo=datetime.timezone.utc)}]', name='list_documents', id='9bbc87e7-4600-4467-87a4-6b9f11f83e73', tool_call_id='call_2FVV0QIkE7SIkEpId5rkrM9v'),\n",
       " AIMessage(content='Your most recent document is titled **\"Hello\"**. Here are the details:\\n\\n- **Content:** \"Hello World!\\\\r\\\\n\\\\r\\\\nHey! How\\'s it going.\"\\n- **Created At:** July 1, 2025\\n- **Updated At:** July 1, 2025\\n- **Active At:** July 1, 2025\\n\\nIf you need more information or want to view the document, let me know!', additional_kwargs={'refusal': None}, response_metadata={'token_usage': {'completion_tokens': 92, 'prompt_tokens': 259, 'total_tokens': 351, 'completion_tokens_details': {'accepted_prediction_tokens': 0, 'audio_tokens': 0, 'reasoning_tokens': 0, 'rejected_prediction_tokens': 0}, 'prompt_tokens_details': {'audio_tokens': 0, 'cached_tokens': 0}}, 'model_name': 'gpt-4o-mini-2024-07-18', 'system_fingerprint': 'fp_62a23a81ef', 'id': 'chatcmpl-Br18otZ6Ub8qNDYRtNsRhNmMBwiig', 'service_tier': 'default', 'finish_reason': 'stop', 'logprobs': None}, id='run--5e8eb9f1-4ead-4947-a103-1620ecdd366c-0', usage_metadata={'input_tokens': 259, 'output_tokens': 92, 'total_tokens': 351, 'input_token_details': {'audio': 0, 'cache_read': 0}, 'output_token_details': {'audio': 0, 'reasoning': 0}})]"
      ]
     },
     "execution_count": 9,
     "metadata": {},
     "output_type": "execute_result"
    }
   ],
   "source": [
    "response[\"messages\"]"
   ]
  },
  {
   "cell_type": "code",
   "execution_count": 11,
   "id": "743b80a8",
   "metadata": {},
   "outputs": [
    {
     "name": "stdout",
     "output_type": "stream",
     "text": [
      "What are my recent documents?\n",
      "\n",
      "[{'id': 1, 'title': 'Hello', 'content': \"Hello World!\\r\\n\\r\\nHey! How's it going.\", 'active': True, 'active_at': datetime.datetime(2025, 7, 1, 5, 56, 29, 933374, tzinfo=datetime.timezone.utc), 'created_at': datetime.datetime(2025, 7, 1, 5, 56, 29, 936122, tzinfo=datetime.timezone.utc), 'updated_at': datetime.datetime(2025, 7, 1, 5, 56, 29, 936575, tzinfo=datetime.timezone.utc)}]\n",
      "Your most recent document is titled **\"Hello\"**. Here are the details:\n",
      "\n",
      "- **Content:** \"Hello World!\\r\\n\\r\\nHey! How's it going.\"\n",
      "- **Created At:** July 1, 2025\n",
      "- **Updated At:** July 1, 2025\n",
      "- **Active At:** July 1, 2025\n",
      "\n",
      "If you need more information or want to view the document, let me know!\n"
     ]
    }
   ],
   "source": [
    "for msgs in response[\"messages\"]:\n",
    "    print(msgs.content)"
   ]
  },
  {
   "cell_type": "code",
   "execution_count": null,
   "id": "c296a5e5",
   "metadata": {},
   "outputs": [],
   "source": []
  }
 ],
 "metadata": {
  "kernelspec": {
   "display_name": "env_aiagent",
   "language": "python",
   "name": "python3"
  },
  "language_info": {
   "codemirror_mode": {
    "name": "ipython",
    "version": 3
   },
   "file_extension": ".py",
   "mimetype": "text/x-python",
   "name": "python",
   "nbconvert_exporter": "python",
   "pygments_lexer": "ipython3",
   "version": "3.13.2"
  }
 },
 "nbformat": 4,
 "nbformat_minor": 5
}
