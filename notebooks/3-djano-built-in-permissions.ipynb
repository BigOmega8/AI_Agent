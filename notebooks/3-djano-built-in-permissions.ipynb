{
 "cells": [
  {
   "cell_type": "code",
   "execution_count": 1,
   "id": "8ed32b6f",
   "metadata": {},
   "outputs": [],
   "source": [
    "import setup\n",
    "\n",
    "setup.init()"
   ]
  },
  {
   "cell_type": "code",
   "execution_count": 2,
   "id": "203c7765",
   "metadata": {},
   "outputs": [
    {
     "data": {
      "text/plain": [
       "<QuerySet [<User: shuddcfe1>, <User: jane>, <User: Jan>, <User: Kiaan>, <User: tony_stark>]>"
      ]
     },
     "execution_count": 2,
     "metadata": {},
     "output_type": "execute_result"
    }
   ],
   "source": [
    "from django.contrib.auth import get_user_model\n",
    "\n",
    "User = get_user_model()\n",
    "\n",
    "User.objects.all()"
   ]
  },
  {
   "cell_type": "code",
   "execution_count": 3,
   "id": "c4e06737",
   "metadata": {},
   "outputs": [
    {
     "data": {
      "text/plain": [
       "<User: shuddcfe1>"
      ]
     },
     "execution_count": 3,
     "metadata": {},
     "output_type": "execute_result"
    }
   ],
   "source": [
    "super_u = User.objects.get(is_superuser=True)\n",
    "super_u"
   ]
  },
  {
   "cell_type": "code",
   "execution_count": 5,
   "id": "85c87173",
   "metadata": {},
   "outputs": [
    {
     "data": {
      "text/plain": [
       "<User: tony_stark>"
      ]
     },
     "execution_count": 5,
     "metadata": {},
     "output_type": "execute_result"
    }
   ],
   "source": [
    "staff_u = User.objects.filter(is_superuser=False, is_staff=True).first()\n",
    "staff_u"
   ]
  },
  {
   "cell_type": "code",
   "execution_count": 10,
   "id": "eeacb3f9",
   "metadata": {},
   "outputs": [
    {
     "name": "stdout",
     "output_type": "stream",
     "text": [
      "view_logentry :  Can view log entry\n",
      "view_group :  Can view group\n",
      "view_permission :  Can view permission\n",
      "view_user :  Can view user\n",
      "view_contenttype :  Can view content type\n",
      "view_document :  Can view document\n",
      "view_session :  Can view session\n"
     ]
    }
   ],
   "source": [
    "from django.contrib.auth.models import Permission\n",
    "\n",
    "perms_qs = Permission.objects.filter(codename__icontains=\"view\")\n",
    "\n",
    "for perm in perms_qs:\n",
    "    print(perm.codename, \": \", perm.name)\n",
    "    staff_u.user_permissions.add(perm)"
   ]
  },
  {
   "cell_type": "code",
   "execution_count": null,
   "id": "63c559a9",
   "metadata": {},
   "outputs": [],
   "source": []
  }
 ],
 "metadata": {
  "kernelspec": {
   "display_name": "env_aiagent",
   "language": "python",
   "name": "python3"
  },
  "language_info": {
   "codemirror_mode": {
    "name": "ipython",
    "version": 3
   },
   "file_extension": ".py",
   "mimetype": "text/x-python",
   "name": "python",
   "nbconvert_exporter": "python",
   "pygments_lexer": "ipython3",
   "version": "3.13.2"
  }
 },
 "nbformat": 4,
 "nbformat_minor": 5
}
