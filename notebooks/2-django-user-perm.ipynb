{
 "cells": [
  {
   "cell_type": "code",
   "execution_count": 11,
   "id": "dd0110a2",
   "metadata": {},
   "outputs": [],
   "source": [
    "import setup\n",
    "\n",
    "setup.init()"
   ]
  },
  {
   "cell_type": "code",
   "execution_count": 12,
   "id": "162a2114",
   "metadata": {},
   "outputs": [
    {
     "data": {
      "text/plain": [
       "<QuerySet [<User: shuddcfe1>, <User: jane>, <User: Jan>]>"
      ]
     },
     "execution_count": 12,
     "metadata": {},
     "output_type": "execute_result"
    }
   ],
   "source": [
    "from django.contrib.auth import get_user_model\n",
    "User = get_user_model()\n",
    "\n",
    "User.objects.all()"
   ]
  },
  {
   "cell_type": "code",
   "execution_count": 13,
   "id": "8e769afb",
   "metadata": {},
   "outputs": [
    {
     "data": {
      "text/plain": [
       "<User: jane>"
      ]
     },
     "execution_count": 13,
     "metadata": {},
     "output_type": "execute_result"
    }
   ],
   "source": [
    "user_obj = User(\n",
    "    username='jane'\n",
    ")\n",
    "\n",
    "user_obj"
   ]
  },
  {
   "cell_type": "code",
   "execution_count": 4,
   "id": "f361f26c",
   "metadata": {},
   "outputs": [],
   "source": [
    "user_obj.save()"
   ]
  },
  {
   "cell_type": "code",
   "execution_count": 5,
   "id": "cb9d634c",
   "metadata": {},
   "outputs": [
    {
     "data": {
      "text/plain": [
       "<Document: Markiplier>"
      ]
     },
     "execution_count": 5,
     "metadata": {},
     "output_type": "execute_result"
    }
   ],
   "source": [
    "from documents.models import Document\n",
    "doc_user = Document(\n",
    "    owner=user_obj,\n",
    "    title=\"Markiplier\"\n",
    ")\n",
    "\n",
    "doc_user"
   ]
  },
  {
   "cell_type": "code",
   "execution_count": 6,
   "id": "ce9c448d",
   "metadata": {},
   "outputs": [],
   "source": [
    "doc_user.save()"
   ]
  },
  {
   "cell_type": "code",
   "execution_count": 8,
   "id": "94705f26",
   "metadata": {},
   "outputs": [
    {
     "data": {
      "text/plain": [
       "<Document: Markiplier>"
      ]
     },
     "execution_count": 8,
     "metadata": {},
     "output_type": "execute_result"
    }
   ],
   "source": [
    "Document.objects.create(\n",
    "    owner=user_obj,\n",
    "    title=\"Markiplier\",\n",
    "    content=\"This is a test document for Markiplier.\"\n",
    ")\n"
   ]
  },
  {
   "cell_type": "code",
   "execution_count": 17,
   "id": "7979fc6f",
   "metadata": {},
   "outputs": [],
   "source": [
    "user_obj_2 = User(\n",
    "    username=\"Jan\"\n",
    ")\n",
    "user_obj_2.save()"
   ]
  },
  {
   "cell_type": "code",
   "execution_count": 18,
   "id": "d8aca2d4",
   "metadata": {},
   "outputs": [
    {
     "data": {
      "text/plain": [
       "<Document: FNAF: The Secret of the Mimic>"
      ]
     },
     "execution_count": 18,
     "metadata": {},
     "output_type": "execute_result"
    }
   ],
   "source": [
    "from documents.models import Document\n",
    "\n",
    "Document.objects.create(\n",
    "    owner=user_obj_2,\n",
    "    title=\"FNAF: The Secret of the Mimic\",\n",
    "    content=\"This is a test document for FNAF: The Secret of the Mimic.\"\n",
    ")\n"
   ]
  },
  {
   "cell_type": "code",
   "execution_count": 19,
   "id": "a42c5870",
   "metadata": {},
   "outputs": [],
   "source": [
    "user_obj_3 = User(\n",
    "    username=\"Kiaan\"\n",
    ")"
   ]
  },
  {
   "cell_type": "code",
   "execution_count": 20,
   "id": "0c769750",
   "metadata": {},
   "outputs": [],
   "source": [
    "user_obj_3.save()"
   ]
  },
  {
   "cell_type": "code",
   "execution_count": null,
   "id": "01c5881b",
   "metadata": {},
   "outputs": [],
   "source": [
    "Document.objects.create(\n",
    "    owner=user_obj_3,\n",
    "    title=\"How to boost your productivity\",\n",
    "    content=\"This is a test document for boosting productivity.\"\n",
    ")"
   ]
  }
 ],
 "metadata": {
  "kernelspec": {
   "display_name": "env_aiagent",
   "language": "python",
   "name": "python3"
  },
  "language_info": {
   "codemirror_mode": {
    "name": "ipython",
    "version": 3
   },
   "file_extension": ".py",
   "mimetype": "text/x-python",
   "name": "python",
   "nbconvert_exporter": "python",
   "pygments_lexer": "ipython3",
   "version": "3.13.2"
  }
 },
 "nbformat": 4,
 "nbformat_minor": 5
}
