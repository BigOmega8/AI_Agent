{
 "cells": [
  {
   "cell_type": "code",
   "execution_count": 2,
   "id": "155eb1b0",
   "metadata": {},
   "outputs": [],
   "source": [
    "import setup\n",
    "setup.init()"
   ]
  },
  {
   "cell_type": "code",
   "execution_count": 3,
   "id": "2d9e377d",
   "metadata": {},
   "outputs": [],
   "source": [
    "from ai.agents import get_document_agent\n",
    "from langgraph.checkpoint.memory import InMemorySaver"
   ]
  },
  {
   "cell_type": "code",
   "execution_count": 4,
   "id": "7a866af2",
   "metadata": {},
   "outputs": [],
   "source": [
    "import uuid\n",
    "shared_thread_id = uuid.uuid4()\n",
    "config = {\"configurable\": {\"user_id\": \"2\", \"thread_id\": shared_thread_id}}\n",
    "checkpointer = InMemorySaver()\n",
    "agent = get_document_agent(model=\"gpt-4o-mini\", checkpointer=checkpointer)"
   ]
  },
  {
   "cell_type": "code",
   "execution_count": 4,
   "id": "5ed71866",
   "metadata": {},
   "outputs": [
    {
     "data": {
      "text/plain": [
       "'\"Thunderbolts\" is an upcoming Marvel film that features a team of anti-heroes and villains from the Marvel Comics universe. The film stars Florence Pugh as Yelena Belova, a character introduced in \"Black Widow,\" and Sebastian Stan as Bucky Barnes, also known as the Winter Soldier. \\n\\nThe plot revolves around a group of characters who are often seen as morally ambiguous or outright villainous, coming together for a mission that could either redeem them or lead to their downfall. The team is expected to include other notable characters from the Marvel universe, each with their own unique abilities and backgrounds.\\n\\nThe film explores themes of redemption, loyalty, and the complexities of heroism, as the characters navigate their pasts and the challenges of working together. With a mix of action, humor, and character development, \"Thunderbolts\" aims to provide a fresh take on the superhero genre by focusing on characters who operate in the gray areas of morality.\\n\\nAs of now, specific plot details and character arcs are still under wraps, but the film is highly anticipated by fans of the Marvel Cinematic Universe.'"
      ]
     },
     "execution_count": 4,
     "metadata": {},
     "output_type": "execute_result"
    }
   ],
   "source": [
    "response = agent.invoke(\n",
    "    {\n",
    "        \"messages\": [\n",
    "            {\n",
    "                \"role\": \"user\",\n",
    "                \"content\": \"Give me the summary of the movie 'Thunderbolts' starring Florence Pugh and Sebastian Stan.\"\n",
    "            }\n",
    "        ]\n",
    "    },\n",
    "    config\n",
    ")\n",
    "\n",
    "response[\"messages\"][-1].content"
   ]
  },
  {
   "cell_type": "code",
   "execution_count": 5,
   "id": "97a9633f",
   "metadata": {},
   "outputs": [
    {
     "data": {
      "text/plain": [
       "'The summary of the movie \"Thunderbolts\" has been successfully saved to your documents. If you need anything else, feel free to ask!'"
      ]
     },
     "execution_count": 5,
     "metadata": {},
     "output_type": "execute_result"
    }
   ],
   "source": [
    "response = agent.invoke(\n",
    "    {\n",
    "        \"messages\": [\n",
    "            {\n",
    "                \"role\": \"user\",\n",
    "                \"content\": \"Great! Now save to my documents\"\n",
    "            }\n",
    "        ]\n",
    "    },\n",
    "    config\n",
    ")\n",
    "\n",
    "response[\"messages\"][-1].content"
   ]
  },
  {
   "cell_type": "code",
   "execution_count": 7,
   "id": "a5745048",
   "metadata": {},
   "outputs": [
    {
     "data": {
      "text/plain": [
       "'The summary of the movie \"Avengers: Endgame\" has been successfully saved to your documents. If you have any more requests or need further assistance, feel free to ask!'"
      ]
     },
     "execution_count": 7,
     "metadata": {},
     "output_type": "execute_result"
    }
   ],
   "source": [
    "response = agent.invoke(\n",
    "    {\n",
    "        \"messages\": [\n",
    "            {\n",
    "                \"role\": \"user\",\n",
    "                \"content\": \"Give me the summary of the movie 'Agenvers: Endgame' and save it to my documents.\"\n",
    "            }\n",
    "        ]\n",
    "    },\n",
    "    config\n",
    ")\n",
    "\n",
    "response[\"messages\"][-1].content"
   ]
  },
  {
   "cell_type": "code",
   "execution_count": 8,
   "id": "f5ebde4e",
   "metadata": {},
   "outputs": [
    {
     "data": {
      "text/plain": [
       "'The summary of the movie \"Captain America: Civil War\" has been successfully saved to your documents. If you have any more requests or need further assistance, feel free to ask!'"
      ]
     },
     "execution_count": 8,
     "metadata": {},
     "output_type": "execute_result"
    }
   ],
   "source": [
    "response = agent.invoke(\n",
    "    {\n",
    "        \"messages\": [\n",
    "            {\n",
    "                \"role\": \"user\",\n",
    "                \"content\": \"Give me the summary of the movie 'Captain America: Civil War' and save it to my documents.\"\n",
    "            }\n",
    "        ]\n",
    "    },\n",
    "    config\n",
    ")\n",
    "\n",
    "response[\"messages\"][-1].content"
   ]
  },
  {
   "cell_type": "code",
   "execution_count": 9,
   "id": "eb5f7682",
   "metadata": {},
   "outputs": [
    {
     "data": {
      "text/plain": [
       "'Here are your recent documents:\\n\\n1. **Captain America: Civil War Movie Summary** (ID: 9)\\n2. **Avengers: Endgame Movie Summary** (ID: 8)\\n3. **Thunderbolts Movie Summary** (ID: 7)\\n4. **Thunderbolts Movie Summary** (ID: 6)\\n5. **Hello** (ID: 1)\\n\\nIf you need to view, edit, or delete any of these documents, just let me know!'"
      ]
     },
     "execution_count": 9,
     "metadata": {},
     "output_type": "execute_result"
    }
   ],
   "source": [
    "response = agent.invoke(\n",
    "    {\n",
    "        \"messages\": [\n",
    "            {\n",
    "                \"role\": \"user\",\n",
    "                \"content\": \"Show me my recent documents.\"\n",
    "            }\n",
    "        ]\n",
    "    },\n",
    "    config\n",
    ")\n",
    "\n",
    "response[\"messages\"][-1].content"
   ]
  },
  {
   "cell_type": "code",
   "execution_count": 10,
   "id": "88cffc55",
   "metadata": {},
   "outputs": [
    {
     "data": {
      "text/plain": [
       "'The title of the movie \"Thunderbolts\" has been successfully updated to \"Thunderbolts*\". If you need any further assistance or have more requests, feel free to let me know!'"
      ]
     },
     "execution_count": 10,
     "metadata": {},
     "output_type": "execute_result"
    }
   ],
   "source": [
    "response = agent.invoke(\n",
    "    {\n",
    "        \"messages\": [\n",
    "            {\n",
    "                \"role\": \"user\",\n",
    "                \"content\": \"Update the name of the movie 'Thunderbolts' to 'Thunderbolts*'.\"\n",
    "            }\n",
    "        ]\n",
    "    },\n",
    "    config\n",
    ")\n",
    "\n",
    "response[\"messages\"][-1].content"
   ]
  },
  {
   "cell_type": "code",
   "execution_count": 11,
   "id": "51051107",
   "metadata": {},
   "outputs": [
    {
     "data": {
      "text/plain": [
       "'Here are your recent documents:\\n\\n1. **Captain America: Civil War Movie Summary** (ID: 9)\\n2. **Avengers: Endgame Movie Summary** (ID: 8)\\n3. **Thunderbolts*** (ID: 7)\\n4. **Thunderbolts Movie Summary** (ID: 6)\\n5. **Hello** (ID: 1)\\n\\nIf you need to view, edit, or delete any of these documents, just let me know!'"
      ]
     },
     "execution_count": 11,
     "metadata": {},
     "output_type": "execute_result"
    }
   ],
   "source": [
    "response = agent.invoke(\n",
    "    {\n",
    "        \"messages\": [\n",
    "            {\n",
    "                \"role\": \"user\",\n",
    "                \"content\": \"Show me my recent documents.\"\n",
    "            }\n",
    "        ]\n",
    "    },\n",
    "    config\n",
    ")\n",
    "\n",
    "response[\"messages\"][-1].content\n"
   ]
  },
  {
   "cell_type": "code",
   "execution_count": 5,
   "id": "7977a237",
   "metadata": {},
   "outputs": [
    {
     "data": {
      "text/plain": [
       "\"The document titled 'Thunderbolts Movie Summary' has been successfully deleted.\""
      ]
     },
     "execution_count": 5,
     "metadata": {},
     "output_type": "execute_result"
    }
   ],
   "source": [
    "response = agent.invoke(\n",
    "    {\n",
    "        \"messages\": [\n",
    "            {\n",
    "                \"role\": \"user\",\n",
    "                \"content\": \"Delete the movie with title 'Thunderbolts Movie Summary', ID = 6.\"\n",
    "            }\n",
    "        ]\n",
    "    },\n",
    "    config\n",
    ")\n",
    "\n",
    "response[\"messages\"][-1].content\n"
   ]
  },
  {
   "cell_type": "code",
   "execution_count": 6,
   "id": "0a4c12ff",
   "metadata": {},
   "outputs": [
    {
     "data": {
      "text/plain": [
       "'Here are your recent documents:\\n\\n1. **Captain America: Civil War Movie Summary** (ID: 9)\\n2. **Avengers: Endgame Movie Summary** (ID: 8)\\n3. **Thunderbolts*** (ID: 7)\\n4. **Hello** (ID: 1)'"
      ]
     },
     "execution_count": 6,
     "metadata": {},
     "output_type": "execute_result"
    }
   ],
   "source": [
    "response = agent.invoke(\n",
    "    {\n",
    "        \"messages\": [\n",
    "            {\n",
    "                \"role\": \"user\",\n",
    "                \"content\": \"Show me my recent documents.\"\n",
    "            }\n",
    "        ]\n",
    "    },\n",
    "    config\n",
    ")\n",
    "\n",
    "response[\"messages\"][-1].content\n",
    "\n"
   ]
  },
  {
   "cell_type": "code",
   "execution_count": null,
   "id": "762553d2",
   "metadata": {},
   "outputs": [],
   "source": []
  }
 ],
 "metadata": {
  "kernelspec": {
   "display_name": "env_aiagent",
   "language": "python",
   "name": "python3"
  },
  "language_info": {
   "codemirror_mode": {
    "name": "ipython",
    "version": 3
   },
   "file_extension": ".py",
   "mimetype": "text/x-python",
   "name": "python",
   "nbconvert_exporter": "python",
   "pygments_lexer": "ipython3",
   "version": "3.13.2"
  }
 },
 "nbformat": 4,
 "nbformat_minor": 5
}
