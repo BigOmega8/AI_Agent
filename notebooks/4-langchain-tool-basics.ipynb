{
 "cells": [
  {
   "cell_type": "code",
   "execution_count": 1,
   "id": "45ea87bf",
   "metadata": {},
   "outputs": [],
   "source": [
    "import setup\n",
    "\n",
    "setup.init()"
   ]
  },
  {
   "cell_type": "code",
   "execution_count": 2,
   "id": "a5152e3d",
   "metadata": {},
   "outputs": [],
   "source": [
    "config = {\"user_id\": 2}"
   ]
  },
  {
   "cell_type": "code",
   "execution_count": 3,
   "id": "60725355",
   "metadata": {},
   "outputs": [
    {
     "data": {
      "text/plain": [
       "[{'id': 1,\n",
       "  'title': 'Hello',\n",
       "  'content': \"Hello World!\\r\\n\\r\\nHey! How's it going.\",\n",
       "  'active': True,\n",
       "  'active_at': datetime.datetime(2025, 7, 1, 5, 56, 29, 933374, tzinfo=datetime.timezone.utc),\n",
       "  'created_at': datetime.datetime(2025, 7, 1, 5, 56, 29, 936122, tzinfo=datetime.timezone.utc),\n",
       "  'updated_at': datetime.datetime(2025, 7, 1, 5, 56, 29, 936575, tzinfo=datetime.timezone.utc)}]"
      ]
     },
     "execution_count": 3,
     "metadata": {},
     "output_type": "execute_result"
    }
   ],
   "source": [
    "from ai.tools import list_documents, get_document\n",
    "\n",
    "list_documents.invoke(None, config=config)"
   ]
  },
  {
   "cell_type": "code",
   "execution_count": 5,
   "id": "1467cc45",
   "metadata": {},
   "outputs": [
    {
     "data": {
      "text/plain": [
       "{'id': 1,\n",
       " 'title': 'Hello',\n",
       " 'content': \"Hello World!\\r\\n\\r\\nHey! How's it going.\",\n",
       " 'active': True,\n",
       " 'active_at': datetime.datetime(2025, 7, 1, 5, 56, 29, 933374, tzinfo=datetime.timezone.utc),\n",
       " 'created_at': datetime.datetime(2025, 7, 1, 5, 56, 29, 936122, tzinfo=datetime.timezone.utc),\n",
       " 'updated_at': datetime.datetime(2025, 7, 1, 5, 56, 29, 936575, tzinfo=datetime.timezone.utc)}"
      ]
     },
     "execution_count": 5,
     "metadata": {},
     "output_type": "execute_result"
    }
   ],
   "source": [
    "get_document.invoke({\"document_id\": 1}, config=config)"
   ]
  },
  {
   "cell_type": "code",
   "execution_count": null,
   "id": "b449cc5d",
   "metadata": {},
   "outputs": [],
   "source": []
  },
  {
   "cell_type": "code",
   "execution_count": null,
   "id": "8982f46b",
   "metadata": {},
   "outputs": [],
   "source": []
  }
 ],
 "metadata": {
  "kernelspec": {
   "display_name": "env_aiagent",
   "language": "python",
   "name": "python3"
  },
  "language_info": {
   "codemirror_mode": {
    "name": "ipython",
    "version": 3
   },
   "file_extension": ".py",
   "mimetype": "text/x-python",
   "name": "python",
   "nbconvert_exporter": "python",
   "pygments_lexer": "ipython3",
   "version": "3.13.2"
  }
 },
 "nbformat": 4,
 "nbformat_minor": 5
}
