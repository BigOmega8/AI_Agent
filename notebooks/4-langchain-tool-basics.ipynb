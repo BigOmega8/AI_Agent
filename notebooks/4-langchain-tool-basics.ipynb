{
 "cells": [
  {
   "cell_type": "code",
   "execution_count": 11,
   "id": "45ea87bf",
   "metadata": {},
   "outputs": [],
   "source": [
    "import setup\n",
    "\n",
    "setup.init()"
   ]
  },
  {
   "cell_type": "code",
   "execution_count": 18,
   "id": "a5152e3d",
   "metadata": {},
   "outputs": [],
   "source": [
    "config = {\"user_id\": 5}"
   ]
  },
  {
   "cell_type": "code",
   "execution_count": 19,
   "id": "60725355",
   "metadata": {},
   "outputs": [
    {
     "name": "stdout",
     "output_type": "stream",
     "text": [
      "{'tags': [], 'metadata': {'user_id': 5}, 'callbacks': None, 'recursion_limit': 25, 'configurable': {'user_id': 5}}\n"
     ]
    },
    {
     "data": {
      "text/plain": [
       "[{'id': 4,\n",
       "  'title': 'FNAF: The Secret of the Mimic',\n",
       "  'content': 'This is a test document for FNAF: The Secret of the Mimic.',\n",
       "  'active': True,\n",
       "  'active_at': datetime.datetime(2025, 7, 2, 2, 12, 52, 753039, tzinfo=datetime.timezone.utc),\n",
       "  'created_at': datetime.datetime(2025, 7, 2, 2, 12, 52, 753243, tzinfo=datetime.timezone.utc),\n",
       "  'updated_at': datetime.datetime(2025, 7, 2, 2, 12, 52, 753252, tzinfo=datetime.timezone.utc)}]"
      ]
     },
     "execution_count": 19,
     "metadata": {},
     "output_type": "execute_result"
    }
   ],
   "source": [
    "from ai.tools import list_documents, get_document\n",
    "\n",
    "list_documents.invoke(None, config=config)"
   ]
  },
  {
   "cell_type": "code",
   "execution_count": 20,
   "id": "1467cc45",
   "metadata": {},
   "outputs": [
    {
     "data": {
      "text/plain": [
       "{'id': 4,\n",
       " 'title': 'FNAF: The Secret of the Mimic',\n",
       " 'content': 'This is a test document for FNAF: The Secret of the Mimic.',\n",
       " 'active': True,\n",
       " 'active_at': datetime.datetime(2025, 7, 2, 2, 12, 52, 753039, tzinfo=datetime.timezone.utc),\n",
       " 'created_at': datetime.datetime(2025, 7, 2, 2, 12, 52, 753243, tzinfo=datetime.timezone.utc),\n",
       " 'updated_at': datetime.datetime(2025, 7, 2, 2, 12, 52, 753252, tzinfo=datetime.timezone.utc)}"
      ]
     },
     "execution_count": 20,
     "metadata": {},
     "output_type": "execute_result"
    }
   ],
   "source": [
    "get_document.invoke({\"document_id\": 4}, config=config)"
   ]
  },
  {
   "cell_type": "code",
   "execution_count": null,
   "id": "b449cc5d",
   "metadata": {},
   "outputs": [],
   "source": []
  },
  {
   "cell_type": "code",
   "execution_count": null,
   "id": "8982f46b",
   "metadata": {},
   "outputs": [],
   "source": []
  }
 ],
 "metadata": {
  "kernelspec": {
   "display_name": "env_aiagent",
   "language": "python",
   "name": "python3"
  },
  "language_info": {
   "codemirror_mode": {
    "name": "ipython",
    "version": 3
   },
   "file_extension": ".py",
   "mimetype": "text/x-python",
   "name": "python",
   "nbconvert_exporter": "python",
   "pygments_lexer": "ipython3",
   "version": "3.13.2"
  }
 },
 "nbformat": 4,
 "nbformat_minor": 5
}
